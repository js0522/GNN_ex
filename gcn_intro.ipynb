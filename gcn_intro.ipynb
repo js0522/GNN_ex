{
 "cells": [
  {
   "cell_type": "markdown",
   "metadata": {},
   "source": [
    "# Graph Convolutional Network"
   ]
  },
  {
   "cell_type": "markdown",
   "metadata": {},
   "source": [
    "## Graphs\n",
    "\n",
    "We can define a graph as a picture that represent the data in an organised manner.\n",
    "Let's go deep into applied graph theory.\n",
    "A graph(being directed or undirected) consists of set of vertices(or nodes) denoted by V and a set of edges denoted by E. Edges can be weighted or binary.\n",
    "Let's have a look of a graph.\n",
    "![a typical graph](graph.png)"
   ]
  },
  {
   "cell_type": "markdown",
   "metadata": {},
   "source": [
    "In the above graph we have:-\n",
    "V={A,B,C,D,E,F,G}\n",
    "E={(A,B),(B,C),(C,E),(B,D),(E,F),(D,E),(B,E),(G,E)}\n",
    "Above all these edges their corresponding weights have been specified. These weights can represent different quantities.For example if we consider these nodes as different cities, edges can be the distance between these cities.\n",
    "\n",
    "#### Degree of a vertex - \n",
    "The degree of a vertex V of a graph G (denoted by deg (V)) is the number of edges incident with the vertex V.\n",
    "As an instance consider node B, it has 3 outgoing edges and 1 incoming edge, so outdegree is 3 and indegree is 1.\n",
    "\n"
   ]
  },
  {
   "cell_type": "markdown",
   "metadata": {},
   "source": [
    "Since now we have a flavour of graphs, let's explore graph convolutional network.\n",
    "\n",
    "## What are GCNs?\n",
    "If we look around us, what we observe is that most of the real-world datasets come in the form of graphs or networks: social networks, protein-interaction networks, the World Wide Web, etc. As the name suggests, Graph Convolution Networks (GCN), draw on the idea of Convolution Neural Networks re-defining them for the graph domain.\n",
    "As we know a regular convolutional neural network captures the surrounding information of each pixel of an image.\n",
    "As for images, the convolution framework aims to capture neighbourhood information for graph nodes also.\n",
    "\n",
    "GCNs come in two varieties: Spectral GCNs and Spatial GCNs.Spectral-based approaches define graph convolutions by introducing filters from the perspective of graph signal processing which is based on graph spectral theory. Spatial-based approaches formulate graph convolutions as aggregating feature information from neighbours.\n",
    "\n",
    "Spectral approach has the limitation of the graph structure being same for all samples i.e. homogeneous structure. But it is a hard constraint, as most of the real-world graph data has different structures and size for different samples i.e. heterogeneous structure. On the other hand we have spatial approach which does not require homogeneous graph structure."
   ]
  },
  {
   "cell_type": "markdown",
   "metadata": {},
   "source": [
    "## Applications\n",
    "Let's see some application of GCNs.\n",
    "\n",
    "They can be used for the purpose of classification like classification of chemical compounds,images/segments being modelled as graph and labelled into classes.\n",
    "\n",
    "They can also be used for clustering/segmentation like research paper classification depending on the citation and references relationship between different documents (Cora dataset), to organize information in large datasets for faster access, say for social network analysis."
   ]
  },
  {
   "cell_type": "markdown",
   "metadata": {},
   "source": [
    "To be continued ..."
   ]
  },
  {
   "cell_type": "code",
   "execution_count": null,
   "metadata": {},
   "outputs": [],
   "source": []
  }
 ],
 "metadata": {
  "kernelspec": {
   "display_name": "Python 3",
   "language": "python",
   "name": "python3"
  },
  "language_info": {
   "codemirror_mode": {
    "name": "ipython",
    "version": 3
   },
   "file_extension": ".py",
   "mimetype": "text/x-python",
   "name": "python",
   "nbconvert_exporter": "python",
   "pygments_lexer": "ipython3",
   "version": "3.6.8"
  }
 },
 "nbformat": 4,
 "nbformat_minor": 2
}
